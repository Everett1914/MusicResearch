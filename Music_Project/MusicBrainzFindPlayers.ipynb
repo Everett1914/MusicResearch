{
 "cells": [
  {
   "cell_type": "code",
   "execution_count": 28,
   "id": "90014664-6ec0-4a50-af8d-5d7e9ba1d17f",
   "metadata": {},
   "outputs": [
    {
     "name": "stdout",
     "output_type": "stream",
     "text": [
      "Recording MBID for 'Aja' by 'Steely Dan': 8c01a233-8843-495e-b033-bfa6f036720f\n"
     ]
    }
   ],
   "source": [
    "import requests\n",
    "import json\n",
    "\n",
    "def search_recording(artist_name, release_title):\n",
    "    base_url = \"https://musicbrainz.org/ws/2/release/\"\n",
    "    params = {\n",
    "        \"query\": f\"artist:\\\"{artist_name}\\\" AND release:\\\"{release_title}\\\"\",\n",
    "        \"fmt\": \"json\"\n",
    "    }\n",
    "    headers = {\"User-Agent\": \"Mozilla/5.0 (bittah.pupil@proton.me)\"} # Replace with your app info\n",
    "\n",
    "    response = requests.get(base_url, params=params, headers=headers)\n",
    "    response.raise_for_status() # Raise an exception for bad status codes\n",
    "    data = response.json()\n",
    "    #print(data)\n",
    "    \n",
    "    if data and data.get('releases'):\n",
    "        # Return the MBID of the first matching recording\n",
    "        return data['releases'][0]['id']\n",
    "    return None\n",
    "\n",
    "# Example usage:\n",
    "artist = \"Steely Dan\"\n",
    "album = \"Aja\"\n",
    "release_mbid = search_recording(artist, album)\n",
    "print(f\"Recording MBID for '{album}' by '{artist}': {release_mbid}\")"
   ]
  },
  {
   "cell_type": "code",
   "execution_count": 63,
   "id": "8f8146ad-ddbe-4e8b-a378-dadd11769637",
   "metadata": {},
   "outputs": [
    {
     "name": "stdout",
     "output_type": "stream",
     "text": [
      "[('A1', 'Tom Scott'), ('A1', 'Roger Nichols'), ('A1', 'Larry Carlton'), ('A1', 'Donald Fagen'), ('A1', 'Victor Feldman'), ('A1', 'Paul Humphrey'), ('A1', 'Chuck Rainey'), ('A1', 'Joe Sample'), ('A1', 'Tom Scott'), ('A1', 'Tom Scott'), ('A1', 'Gary Katz'), ('A1', 'Donald Fagen'), ('A1', 'Venetta Fields'), ('A1', 'Clydie King'), ('A1', 'Rebecca Louis'), ('A1', 'Sherlie Matthews'), ('A1', 'Not Found'), ('A2', 'Tom Scott'), ('A2', 'Roger Nichols'), ('A2', 'Walter Becker'), ('A2', 'Larry Carlton'), ('A2', 'Denny Dias'), ('A2', 'Donald Fagen'), ('A2', 'Donald Fagen'), ('A2', 'Victor Feldman'), ('A2', 'Steve Gadd'), ('A2', 'Michael Omartian'), ('A2', 'Chuck Rainey'), ('A2', 'Joe Sample'), ('A2', 'Wayne Shorter'), ('A2', 'Tom Scott'), ('A2', 'Gary Katz'), ('A2', 'Bill Schnee'), ('A2', 'Donald Fagen'), ('A2', 'Donald Fagen'), ('A2', 'Timothy B. Schmit'), ('A2', 'Not Found'), ('A3', 'Tom Scott'), ('A3', 'Roger Nichols'), ('A3', 'Walter Becker'), ('A3', 'Larry Carlton'), ('A3', 'Pete Christlieb'), ('A3', 'Donald Fagen'), ('A3', 'Victor Feldman'), ('A3', 'Victor Feldman'), ('A3', 'Bernard “Pretty” Purdie'), ('A3', 'Lee Ritenour'), ('A3', 'Tom Scott'), ('A3', 'Gary Katz'), ('A3', 'Donald Fagen'), ('A3', 'Venetta Fields'), ('A3', 'Clydie King'), ('A3', 'Sherlie Matthews'), ('A3', 'Not Found'), ('B1', 'Roger Nichols'), ('B1', 'Gary Coleman'), ('B1', 'Victor Feldman'), ('B1', 'Jay Graydon'), ('B1', 'Paul Griffin'), ('B1', 'Paul Griffin'), ('B1', 'Don Grolnick'), ('B1', 'Steve Kahn'), ('B1', 'Steve Khan'), ('B1', 'Rick Marotta'), ('B1', 'Chuck Rainey'), ('B1', 'Tom Scott'), ('B1', 'Gary Katz'), ('B1', 'Donald Fagen'), ('B1', 'Paul Griffin'), ('B1', 'Michael McDonald'), ('B1', 'Not Found'), ('B2', 'Roger Nichols'), ('B2', 'Walter Becker'), ('B2', 'Larry Carlton'), ('B2', 'Donald Fagen'), ('B2', 'Victor Feldman'), ('B2', 'Victor Feldman'), ('B2', 'Bernard “Pretty” Purdie'), ('B2', 'Chuck Rainey'), ('B2', 'Gary Katz'), ('B2', 'Donald Fagen'), ('B2', 'Donald Fagen'), ('B2', 'Timothy B. Schmit'), ('B2', 'Not Found'), ('B3', 'Roger Nichols'), ('B3', 'Walter Becker'), ('B3', 'Larry Carlton'), ('B3', 'Larry Carlton'), ('B3', 'Donald Fagen'), ('B3', 'Victor Feldman'), ('B3', 'Victor Feldman'), ('B3', 'Victor Feldman'), ('B3', 'Ed Greene'), ('B3', 'Dean Parks'), ('B3', 'Chuck Rainey'), ('B3', 'Gary Katz'), ('B3', 'Donald Fagen'), ('B3', 'Venetta Fields'), ('B3', 'Clydie King'), ('B3', 'Rebecca Louis'), ('B3', 'Sherlie Matthews'), ('B3', 'Michael McDonald'), ('B3', 'Not Found'), ('B4', 'Roger Nichols'), ('B4', 'Walter Becker'), ('B4', 'Larry Carlton'), ('B4', 'Donald Fagen'), ('B4', 'Victor Feldman'), ('B4', 'Jim Keltner'), ('B4', 'Jim Keltner'), ('B4', 'Dean Parks'), ('B4', 'Chuck Rainey'), ('B4', 'Gary Katz'), ('B4', 'Donald Fagen'), ('B4', 'Donald Fagen'), ('B4', 'Timothy B. Schmit'), ('B4', 'Not Found')]\n",
      "Musicians on 'Aja': None\n"
     ]
    }
   ],
   "source": [
    "def get_musicians_for_recording(release_mbid):\n",
    "    base_url = f\"https://musicbrainz.org/ws/2/release/{release_mbid}\"\n",
    "    params = {\n",
    "        \"inc\": \"artist-credits+labels+recordings+recording-level-rels+work-rels+work-level-rels+artist-rels\",  # Include artist relationships\n",
    "        \"fmt\": \"json\"\n",
    "    }\n",
    "    headers = {\"User-Agent\": \"Mozilla/5.0 (bittah.pupil@proton.me)\"}\n",
    "\n",
    "    response = requests.get(base_url, params=params, headers=headers)\n",
    "    response.raise_for_status()\n",
    "    data = response.json()\n",
    "\n",
    "    musicians = []\n",
    "    if data and data.get('artist-credit'):\n",
    "        for track in data['media'][0]['tracks']:\n",
    "            for credit in track['recording']['relations']:\n",
    "                musicians.append((track['number'],credit.get('artist', {}).get('name', 'Not Found')))\n",
    "    print(musicians)\n",
    "\n",
    "    #dataTest = data['media'][0]['tracks'][0]['recording']['relations'][2]['artist']['name']\n",
    "    #print(dataTest)\n",
    "\n",
    "    #track_info = [(credit['artist']) for track in data['media'][0]['tracks'] for credit in track['recording']['relations']]\n",
    "    #print(track_info)\n",
    "\n",
    "#Example usage:\n",
    "if release_mbid:\n",
    "    musicians = get_musicians_for_recording(release_mbid)\n",
    "    print(f\"Musicians on '{album}': {musicians}\")\n",
    "else:\n",
    "    print(f\"Recording for '{album}' by '{artist}' not found.\")"
   ]
  },
  {
   "cell_type": "code",
   "execution_count": null,
   "id": "2218aa68-401f-4624-a2fb-d93630140270",
   "metadata": {},
   "outputs": [],
   "source": []
  }
 ],
 "metadata": {
  "kernelspec": {
   "display_name": "Python 3 (ipykernel)",
   "language": "python",
   "name": "python3"
  },
  "language_info": {
   "codemirror_mode": {
    "name": "ipython",
    "version": 3
   },
   "file_extension": ".py",
   "mimetype": "text/x-python",
   "name": "python",
   "nbconvert_exporter": "python",
   "pygments_lexer": "ipython3",
   "version": "3.13.7"
  }
 },
 "nbformat": 4,
 "nbformat_minor": 5
}
