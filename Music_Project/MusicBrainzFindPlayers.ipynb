{
 "cells": [
  {
   "cell_type": "code",
   "execution_count": 59,
   "id": "90014664-6ec0-4a50-af8d-5d7e9ba1d17f",
   "metadata": {},
   "outputs": [
    {
     "name": "stdout",
     "output_type": "stream",
     "text": [
      "Recording MBID for 'Aja' by 'Steely Dan': df722d09-1a86-4463-b1c0-9c82339070b7\n"
     ]
    }
   ],
   "source": [
    "import requests\n",
    "import json\n",
    "\n",
    "def search_recording(artist_name, release_title):\n",
    "    base_url = \"https://musicbrainz.org/ws/2/release/\"\n",
    "    params = {\n",
    "        \"query\": f\"artist:\\\"{artist_name}\\\" AND release:\\\"{release_title}\\\"\",\n",
    "        \"fmt\": \"json\"\n",
    "    }\n",
    "    headers = {\"User-Agent\": \"Mozilla/5.0 (bittah.pupil@proton.me)\"} # Replace with your app info\n",
    "\n",
    "    response = requests.get(base_url, params=params, headers=headers)\n",
    "    response.raise_for_status() # Raise an exception for bad status codes\n",
    "    data = response.json()\n",
    "    #print(data)\n",
    "    \n",
    "    if data and data.get('releases'):\n",
    "        # Return the MBID of the first matching recording\n",
    "        return data['releases'][0]['id']\n",
    "    return None\n",
    "\n",
    "# Example usage:\n",
    "artist = \"Steely Dan\"\n",
    "album = \"Aja\"\n",
    "release_mbid = search_recording(artist, album)\n",
    "print(f\"Recording MBID for '{track}' by '{artist}': {release_mbid}\")"
   ]
  },
  {
   "cell_type": "code",
   "execution_count": 60,
   "id": "8f8146ad-ddbe-4e8b-a378-dadd11769637",
   "metadata": {},
   "outputs": [
    {
     "name": "stdout",
     "output_type": "stream",
     "text": [
      "Larry Carlton\n",
      "Musicians on 'Aja': None\n"
     ]
    }
   ],
   "source": [
    "def get_musicians_for_recording(release_mbid):\n",
    "    base_url = f\"https://musicbrainz.org/ws/2/release/{release_mbid}\"\n",
    "    params = {\n",
    "        \"inc\": \"artist-credits+labels+recordings+recording-level-rels+work-rels+work-level-rels+artist-rels\",  # Include artist relationships\n",
    "        \"fmt\": \"json\"\n",
    "    }\n",
    "    headers = {\"User-Agent\": \"Mozilla/5.0 (bittah.pupil@proton.me)\"}\n",
    "\n",
    "    response = requests.get(base_url, params=params, headers=headers)\n",
    "    response.raise_for_status()\n",
    "    data = response.json()\n",
    "    #print(data)\n",
    "\n",
    "    musicians = []\n",
    "    #if data and data.get('artist-credit'):\n",
    "    #    for credit in data['artist-credit']:\n",
    "    #        if 'artist' in credit and 'name' in credit['artist']:\n",
    "    #            musicians.append(credit['artist']['name'])\n",
    "    #return musicians\n",
    "\n",
    "    dataTest = data['media'][0]['tracks'][0]['recording']['relations'][2]['artist']['name']\n",
    "    print(dataTest)\n",
    "\n",
    "#Example usage:\n",
    "if release_mbid:\n",
    "    musicians = get_musicians_for_recording(release_mbid)\n",
    "    print(f\"Musicians on '{album}': {musicians}\")\n",
    "else:\n",
    "    print(f\"Recording for '{album}' by '{artist}' not found.\")"
   ]
  },
  {
   "cell_type": "code",
   "execution_count": null,
   "id": "8ff48fc9-f1f7-4bdb-96ee-0c08d1ded036",
   "metadata": {},
   "outputs": [],
   "source": []
  }
 ],
 "metadata": {
  "kernelspec": {
   "display_name": "Python 3 (ipykernel)",
   "language": "python",
   "name": "python3"
  },
  "language_info": {
   "codemirror_mode": {
    "name": "ipython",
    "version": 3
   },
   "file_extension": ".py",
   "mimetype": "text/x-python",
   "name": "python",
   "nbconvert_exporter": "python",
   "pygments_lexer": "ipython3",
   "version": "3.12.3"
  }
 },
 "nbformat": 4,
 "nbformat_minor": 5
}
