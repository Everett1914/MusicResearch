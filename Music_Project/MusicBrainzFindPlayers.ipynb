{
 "cells": [
  {
   "cell_type": "code",
   "execution_count": 19,
   "id": "90014664-6ec0-4a50-af8d-5d7e9ba1d17f",
   "metadata": {},
   "outputs": [
    {
     "name": "stdout",
     "output_type": "stream",
     "text": [
      "Recording MBID for 'Peregrinations' by 'Chico Hamilton': 62cf2ca2-087f-4701-892e-de974e91ae3c\n"
     ]
    }
   ],
   "source": [
    "import requests\n",
    "import pandas as pd\n",
    "import json\n",
    "\n",
    "def search_recording(artist_name, release_title):\n",
    "    base_url = \"https://musicbrainz.org/ws/2/release/\"\n",
    "    params = {\n",
    "        \"query\": f\"artist:\\\"{artist_name}\\\" AND release:\\\"{release_title}\\\"\",\n",
    "        \"fmt\": \"json\"\n",
    "    }\n",
    "    headers = {\"User-Agent\": \"Mozilla/5.0 (bittah.pupil@proton.me)\"} # Replace with your app info\n",
    "\n",
    "    response = requests.get(base_url, params=params, headers=headers)\n",
    "    response.raise_for_status() # Raise an exception for bad status codes\n",
    "    data = response.json()\n",
    "    #print(data)\n",
    "    \n",
    "    if data and data.get('releases'):\n",
    "        # Return the MBID of the first matching recording\n",
    "        return data['releases'][1]['id']\n",
    "    return None\n",
    "\n",
    "# Example usage:\n",
    "artist = \"Chico Hamilton\"\n",
    "album = \"Peregrinations\"\n",
    "release_mbid = search_recording(artist, album)\n",
    "print(f\"Recording MBID for '{album}' by '{artist}': {release_mbid}\")"
   ]
  },
  {
   "cell_type": "code",
   "execution_count": 20,
   "id": "182aa919-33d9-451d-a2a4-df0afbdccd2a",
   "metadata": {},
   "outputs": [],
   "source": [
    "def get_credits_for_recording(release_mbid):\n",
    "    base_url = f\"https://musicbrainz.org/ws/2/release/{release_mbid}\"\n",
    "    params = {\n",
    "        \"inc\": \"artist-credits+labels+recordings+recording-level-rels+work-rels+work-level-rels+artist-rels + release-groups\",  # Include artist relationships\n",
    "        \"fmt\": \"json\"\n",
    "    }\n",
    "    headers = {\"User-Agent\": \"Mozilla/5.0 (bittah.pupil@proton.me)\"}\n",
    "\n",
    "    response = requests.get(base_url, params=params, headers=headers)\n",
    "    response.raise_for_status()\n",
    "    data = response.json()\n",
    "    #print(data)\n",
    "\n",
    "    credits = []\n",
    "    \n",
    "    if data and data.get('artist-credit'):\n",
    "       for track in data['media'][0]['tracks']:\n",
    "            for credit in track['recording']['relations']:\n",
    "                if credit['attributes'] == []:\n",
    "                    attributes = 'Not Found'\n",
    "                else:\n",
    "                    attributes = credit['attributes']\n",
    "                credits.append((track['number'], track['title'], credit.get('artist', {}).get('name', 'Not Found'), attributes, credit.get('artist', {}).get('id', 'Not Found')))\n",
    "            for credit in track['artist-credit']:\n",
    "                credits.append((track['number'], track['title'], credit.get('name', 'Not Found'), credit.get('attributes', 'Not Found'), credit.get('artist', {}).get('id', 'Not Found')))\n",
    "    if data['relations']:\n",
    "       for credit in data['relations']:\n",
    "           trackNum = 'Not Found'\n",
    "           trackTitle = 'Not Found'\n",
    "           if credit['attributes'] == [] or not credit['attributes']:\n",
    "               attributes = 'Not Found'\n",
    "           else:\n",
    "               attributes = credit['attributes']\n",
    "           credits.append((trackNum, trackTitle, credit.get('artist', {}).get('name', 'Not Found'), attributes, credit.get('artist', {}).get('id', 'Not Found')))\n",
    "    #print(credits)\n",
    "\n",
    "    #dataTest = data['media'][0]['tracks'][0]['recording']['relations'][2]['artist']['name']\n",
    "    #print(dataTest)\n",
    "\n",
    "    #credits = [{\"Artist\" : credit.get('artist', {}).get('name', 'Not Found'), \"Role\" : credit['attributes'], \"Track Number\" : track['number'], \"Track Title\" : track['title']} for track in data['media'][0]['tracks'] for credit in track['recording']['relations']]\n",
    "\n",
    "    creditNames = []\n",
    "    creditList = []\n",
    "    for credit in credits:\n",
    "        if credit[2] not in creditNames:\n",
    "            creditNames.append(credit[2])\n",
    "            creditList.append((credit[2],credit[3], credit[4]))\n",
    "    print(creditNames)\n",
    "    print(\"\\n\")\n",
    "    print(creditList)\n",
    "    \n",
    "    return credits"
   ]
  },
  {
   "cell_type": "code",
   "execution_count": 21,
   "id": "8f8146ad-ddbe-4e8b-a378-dadd11769637",
   "metadata": {},
   "outputs": [
    {
     "name": "stdout",
     "output_type": "stream",
     "text": [
      "['Baker Bigsby', 'Keg Johnson', 'Chico Hamilton', 'Bob Cato', 'Don Hahn', 'Steve Maslow', 'Ahkmed Abdullah', 'Joe Beck', 'Arthur Blythe', 'Barry Finnerty', 'Arnie Lawrence', 'Jerry Peters', 'Steve Turre', 'Stanley Crouch', 'George Butler', 'Charlotte Politte', 'Julia Waters', 'Luther Waters', 'Maxine Waters', 'Oren Waters']\n",
      "\n",
      "\n",
      "[('Baker Bigsby', 'Not Found', '7cf86f47-fbb0-44a5-949e-ba539b0ef93c'), ('Keg Johnson', 'Not Found', '6c049421-822f-4367-8f68-8456262dd972'), ('Chico Hamilton', 'Not Found', '699067a0-ae8c-45fc-82c1-6227d91f9bb4'), ('Bob Cato', 'Not Found', 'fc21ed6e-4d7c-45b0-9b66-5ff158d7636c'), ('Don Hahn', 'Not Found', '3169f754-035e-4bbd-8ee4-35488fd6fb5d'), ('Steve Maslow', 'Not Found', '50fd20f6-b97f-4827-b001-f79ae2cb207b'), ('Ahkmed Abdullah', ['congas'], 'e04f56ea-ad76-46e6-8e37-f96539fa1519'), ('Joe Beck', ['guitar'], 'e8e98ca1-9a4f-4148-90c7-8983da9ed34a'), ('Arthur Blythe', ['horn'], '91652f18-ce2d-40e1-b6ab-07179a82fb12'), ('Barry Finnerty', ['guitar'], '9f3c93ae-f1bd-43c1-a522-af56a11c83d9'), ('Arnie Lawrence', ['horn'], 'ab5e47cc-3e53-4609-97f6-f4f359a8f7ac'), ('Jerry Peters', ['keyboard bass'], '88b84564-5c9e-493a-9dc9-11ce7463ca4c'), ('Steve Turre', ['bass'], '1751f9e8-e0b5-4d3c-99b6-d93e0e1f4895'), ('Stanley Crouch', 'Not Found', 'b4c7767d-082c-4b31-9fe8-fa470b153863'), ('George Butler', ['executive'], '325cde4b-8eda-41e9-9e5d-465473c80c17'), ('Charlotte Politte', ['synthesizer'], '4aa3c1c0-8955-4109-bea2-07ed96503d5b'), ('Julia Waters', 'Not Found', '6fc81b85-f90b-4ce6-a73f-bc4e6e5389d4'), ('Luther Waters', 'Not Found', '2eb07ecf-c21e-4fed-bc02-907f0d35c302'), ('Maxine Waters', 'Not Found', '14cd65aa-899b-457c-9652-afffe5c3cbc4'), ('Oren Waters', 'Not Found', '7a5af445-ad63-47fb-8b5c-2e0ee3bc1a2a')]\n"
     ]
    }
   ],
   "source": [
    "#Example usage:\n",
    "if release_mbid:\n",
    "    albumCredits = get_credits_for_recording(release_mbid)\n",
    "    #print(albumCredits)\n",
    "else:\n",
    "    print(f\"Recording for '{album}' by '{artist}' not found.\")\n",
    "\n",
    "# Create the DataFrame\n",
    "#df = pd.DataFrame(albumCredits, columns = ['Track Number', 'Track Title', 'Artist', 'Role', 'Artist_MBID'])\n",
    "\n",
    "#pd.set_option('display.max_rows', None)\n",
    "#pd.set_option('display.max_columns', None)\n",
    "\n",
    "\n",
    "# Display the DataFrame\n",
    "#df"
   ]
  }
 ],
 "metadata": {
  "kernelspec": {
   "display_name": "Python 3 (ipykernel)",
   "language": "python",
   "name": "python3"
  },
  "language_info": {
   "codemirror_mode": {
    "name": "ipython",
    "version": 3
   },
   "file_extension": ".py",
   "mimetype": "text/x-python",
   "name": "python",
   "nbconvert_exporter": "python",
   "pygments_lexer": "ipython3",
   "version": "3.13.9"
  }
 },
 "nbformat": 4,
 "nbformat_minor": 5
}
