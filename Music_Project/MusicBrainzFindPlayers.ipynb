{
 "cells": [
  {
   "cell_type": "code",
   "execution_count": 17,
   "id": "90014664-6ec0-4a50-af8d-5d7e9ba1d17f",
   "metadata": {},
   "outputs": [],
   "source": [
    "#imports\n",
    "import musicbrainzngs\n",
    "import pandas as pd"
   ]
  },
  {
   "cell_type": "code",
   "execution_count": 18,
   "id": "d78aa405-beec-4709-b8b4-4c5960198c8c",
   "metadata": {},
   "outputs": [],
   "source": [
    "# Set the user agent for your application\n",
    "musicbrainzngs.set_useragent(\"Mozilla/5.0 (X11; Linux x86_64; rv:143.0) Gecko/20100101 Firefox/143.0\", \"0.5\", \"bittah.pupil@proton.me\")"
   ]
  },
  {
   "cell_type": "code",
   "execution_count": 19,
   "id": "c95d616c-cbc8-40c6-bd8f-934be49d3e82",
   "metadata": {},
   "outputs": [
    {
     "name": "stdout",
     "output_type": "stream",
     "text": [
      "Found album 'Nightflight' with ID: 0dc9afcb-c3de-4558-8c4e-e56604152ff6\n"
     ]
    }
   ],
   "source": [
    "album_title = \"Dune\"  # Replace with your album title\n",
    "\n",
    "try:\n",
    "    results = musicbrainzngs.search_releases(release = \"NightFlight\", artist = \"Gabor Szabo\", strict = True)\n",
    "    if not results['release-list']:\n",
    "        print(f\"No releases found for '{album_title}'.\")\n",
    "        exit()\n",
    "    \n",
    "    # Assuming the first result is the desired album, or you can add logic to choose\n",
    "    album_id = results['release-list'][0]['id']\n",
    "    print(f\"Found album '{results['release-list'][0]['title']}' with ID: {album_id}\")\n",
    "except musicbrainzngs.WebServiceError as e:\n",
    "    print(f\"Error searching for releases: {e}\")\n",
    "    exit()"
   ]
  },
  {
   "cell_type": "code",
   "execution_count": 25,
   "id": "7ea2a260-61cf-45ca-8cb2-366fdfeccce2",
   "metadata": {},
   "outputs": [
    {
     "name": "stdout",
     "output_type": "stream",
     "text": [
      "Title: Nightflight, Date: 1976, Artist Name: Gábor Szabó, Mbid: 0dc9afcb-c3de-4558-8c4e-e56604152ff6\n",
      "Title: Nightflight, Date: 2015-01-16, Artist Name: Gábor Szabó, Mbid: f9d4d610-0592-4195-b5c5-61d3dba819dc\n"
     ]
    }
   ],
   "source": [
    "for release in results['release-list']:\n",
    "    print(f\"Title: {release['title']}, Date: {release['date']}, Artist Name: {release['artist-credit'][0]['name']}, Mbid: {release['id']}\")"
   ]
  },
  {
   "cell_type": "code",
   "execution_count": 21,
   "id": "77c3ff68-eee4-4bd9-91e4-3ee239ecc4bd",
   "metadata": {},
   "outputs": [
    {
     "data": {
      "text/plain": [
       "{'release-list': [{'id': '0dc9afcb-c3de-4558-8c4e-e56604152ff6',\n",
       "   'ext:score': '100',\n",
       "   'title': 'Nightflight',\n",
       "   'status': 'Official',\n",
       "   'text-representation': {'language': 'eng', 'script': 'Latn'},\n",
       "   'artist-credit': [{'name': 'Gábor Szabó',\n",
       "     'artist': {'id': 'ee69197a-ca57-42ba-bd23-93b756391a5d',\n",
       "      'name': 'Gábor Szabó',\n",
       "      'sort-name': 'Szabó, Gábor'}}],\n",
       "   'release-group': {'id': '94f41074-662f-3314-9ba2-40c512a558f9',\n",
       "    'type': 'Album',\n",
       "    'title': 'Nightflight',\n",
       "    'primary-type': 'Album'},\n",
       "   'date': '1976',\n",
       "   'country': 'US',\n",
       "   'release-event-list': [{'date': '1976',\n",
       "     'area': {'id': '489ce91b-6658-3307-9877-795b68554c98',\n",
       "      'name': 'United States',\n",
       "      'sort-name': 'United States',\n",
       "      'iso-3166-1-code-list': ['US']}}],\n",
       "   'label-info-list': [{'catalog-number': 'SRM 1-1091',\n",
       "     'label': {'id': '995428e7-81b6-41dd-bd38-5a7a0ece8ad6',\n",
       "      'name': 'Mercury Records'}}],\n",
       "   'medium-list': [{'format': 'Vinyl',\n",
       "     'disc-list': [],\n",
       "     'disc-count': 0,\n",
       "     'track-list': [],\n",
       "     'track-count': 7}],\n",
       "   'medium-track-count': 7,\n",
       "   'medium-count': 1,\n",
       "   'tag-list': [],\n",
       "   'artist-credit-phrase': 'Gábor Szabó'},\n",
       "  {'id': 'f9d4d610-0592-4195-b5c5-61d3dba819dc',\n",
       "   'ext:score': '100',\n",
       "   'title': 'Nightflight',\n",
       "   'status': 'Official',\n",
       "   'text-representation': {'language': 'eng', 'script': 'Latn'},\n",
       "   'artist-credit': [{'name': 'Gábor Szabó',\n",
       "     'artist': {'id': 'ee69197a-ca57-42ba-bd23-93b756391a5d',\n",
       "      'name': 'Gábor Szabó',\n",
       "      'sort-name': 'Szabó, Gábor'}}],\n",
       "   'release-group': {'id': '94f41074-662f-3314-9ba2-40c512a558f9',\n",
       "    'type': 'Album',\n",
       "    'title': 'Nightflight',\n",
       "    'primary-type': 'Album'},\n",
       "   'date': '2015-01-16',\n",
       "   'country': 'GB',\n",
       "   'release-event-list': [{'date': '2015-01-16',\n",
       "     'area': {'id': '8a754a16-0027-3a29-b6d7-2b40ea0481ed',\n",
       "      'name': 'United Kingdom',\n",
       "      'sort-name': 'United Kingdom',\n",
       "      'iso-3166-1-code-list': ['GB']}}],\n",
       "   'barcode': '765387850623',\n",
       "   'asin': 'B00QSOOOW2',\n",
       "   'label-info-list': [{'catalog-number': 'CDSML 8506',\n",
       "     'label': {'id': '9dd5ef9e-eec5-4c9a-8a9b-6c578c57f71a',\n",
       "      'name': 'Vocalion'}}],\n",
       "   'medium-list': [{'format': 'CD',\n",
       "     'disc-list': [],\n",
       "     'disc-count': 0,\n",
       "     'track-list': [],\n",
       "     'track-count': 10}],\n",
       "   'medium-track-count': 10,\n",
       "   'medium-count': 1,\n",
       "   'tag-list': [],\n",
       "   'artist-credit-phrase': 'Gábor Szabó'}],\n",
       " 'release-count': 2}"
      ]
     },
     "execution_count": 21,
     "metadata": {},
     "output_type": "execute_result"
    }
   ],
   "source": [
    "results"
   ]
  }
 ],
 "metadata": {
  "kernelspec": {
   "display_name": "Python 3 (ipykernel)",
   "language": "python",
   "name": "python3"
  },
  "language_info": {
   "codemirror_mode": {
    "name": "ipython",
    "version": 3
   },
   "file_extension": ".py",
   "mimetype": "text/x-python",
   "name": "python",
   "nbconvert_exporter": "python",
   "pygments_lexer": "ipython3",
   "version": "3.13.7"
  }
 },
 "nbformat": 4,
 "nbformat_minor": 5
}
