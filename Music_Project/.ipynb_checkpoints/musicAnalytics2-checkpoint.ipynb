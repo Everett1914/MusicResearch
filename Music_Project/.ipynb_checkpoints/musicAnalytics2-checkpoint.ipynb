{
 "cells": [
  {
   "cell_type": "code",
   "execution_count": 1,
   "id": "98fb4539-44a5-46a1-bc58-418c7d7ee9a8",
   "metadata": {},
   "outputs": [],
   "source": [
    "#imports\n",
    "import requests"
   ]
  },
  {
   "cell_type": "code",
   "execution_count": 3,
   "id": "29f4ac8e-2840-4c33-9a3b-cc91c335d315",
   "metadata": {},
   "outputs": [],
   "source": [
    "#define the api endpoints for last.fm\n",
    "url = \"http://ws.audioscrobbler.com/2.0/\"\n",
    "\n",
    "#define parameters\n",
    "API_KEY = \"81795854e49b1656fb706caeb7586f05\"\n",
    "USER_AGENT = \"Mozilla/5.0 (X11; Linux x86_64; rv:143.0) Gecko/20100101 Firefox/143.0\"\n",
    "\n",
    "#set parameters for the API request\n",
    "params = {\n",
    "    \"method\":\"chart.gettopartists\",\n",
    "    \"api_key\":API_KEY,\n",
    "    \"format\":\"json\",\n",
    "    \"user-agent\":\"Mozilla/5.0 (X11; Linux x86_64; rv:143.0) Gecko/20100101 Firefox/143.0\"\n",
    "}"
   ]
  },
  {
   "cell_type": "code",
   "execution_count": 9,
   "id": "f44452f7-6105-45e7-b985-cec021b14b00",
   "metadata": {},
   "outputs": [
    {
     "name": "stdout",
     "output_type": "stream",
     "text": [
      "Top Artist: Tyler, The Creator\n",
      "Listeners: 4027854\n",
      "URL: https://www.last.fm/music/Tyler,+The+Creator\n"
     ]
    }
   ],
   "source": [
    "#make the request\n",
    "response = requests.get(url, params=params)\n",
    "\n",
    "#check if the request was successful\n",
    "if response.status_code == 200:\n",
    "    data = response.json()\n",
    "    # Extract the top artist\n",
    "    top_artist = data['artists']['artist'][0]\n",
    "    print(f\"Top Artist: {top_artist['name']}\")\n",
    "    print(f\"Listeners: {top_artist['listeners']}\")\n",
    "    print(f\"URL: {top_artist['url']}\")\n",
    "else:\n",
    "    print(f\"Error: {response.status_code} - {response.text}\")"
   ]
  },
  {
   "cell_type": "code",
   "execution_count": null,
   "id": "dbde21f7-e1da-4a94-b415-bfafe7150058",
   "metadata": {},
   "outputs": [],
   "source": []
  }
 ],
 "metadata": {
  "kernelspec": {
   "display_name": "Python 3 (ipykernel)",
   "language": "python",
   "name": "python3"
  },
  "language_info": {
   "codemirror_mode": {
    "name": "ipython",
    "version": 3
   },
   "file_extension": ".py",
   "mimetype": "text/x-python",
   "name": "python",
   "nbconvert_exporter": "python",
   "pygments_lexer": "ipython3",
   "version": "3.12.3"
  }
 },
 "nbformat": 4,
 "nbformat_minor": 5
}
