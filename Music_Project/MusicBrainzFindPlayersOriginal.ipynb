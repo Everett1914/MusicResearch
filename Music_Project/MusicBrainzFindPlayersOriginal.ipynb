{
 "cells": [
  {
   "cell_type": "code",
   "execution_count": 1,
   "id": "314c7c73-e786-4ef1-a578-21c1df441731",
   "metadata": {},
   "outputs": [],
   "source": [
    "#imports\n",
    "import requests\n",
    "import pandas as pd\n",
    "import json\n",
    "import time\n",
    "import networkx"
   ]
  },
  {
   "cell_type": "code",
   "execution_count": 2,
   "id": "710f2a2b-61fd-4b34-86b4-7e56c31b639b",
   "metadata": {},
   "outputs": [],
   "source": [
    "class Release_Node:\n",
    "    \"\"\"\n",
    "    Represents a node in a networkx diagram.with basic attributes and functionalities(TBD).\n",
    "\n",
    "    Attributes:\n",
    "        release_name (str): Name of the music release.\n",
    "        release_mbid (str): MusicBrainz ID.\n",
    "        release_credits (list): List of credits on the music release.\n",
    "    \"\"\"\n",
    "    def __init__(self, release_name, release_data, release_credits):\n",
    "        \"\"\"\n",
    "        Initializes the Release_Node object.\n",
    "\n",
    "        Args:\n",
    "            release_name (str): Name of the music release.\n",
    "            release_mbid (str): MusicBrainz ID.\n",
    "            release_credits (list): List of credits on the music release.\n",
    "        \"\"\"\n",
    "        self.release_name = name\n",
    "        self.release_mbid = data\n",
    "        self.release_credits = []"
   ]
  },
  {
   "cell_type": "code",
   "execution_count": 3,
   "id": "90014664-6ec0-4a50-af8d-5d7e9ba1d17f",
   "metadata": {},
   "outputs": [
    {
     "name": "stdout",
     "output_type": "stream",
     "text": [
      "Recording MBID for 'Everything Must Go' by 'Steely Dan': 6c54186c-ba4c-4391-9f6f-b8521c7b11d0\n"
     ]
    }
   ],
   "source": [
    "def search_recording(artist_name, release_title):\n",
    "    \"\"\"\n",
    "    Retrieves all release groups for a given artist using their MusicBrainz ID.\n",
    "\n",
    "    Args:\n",
    "        artist_name (str): Name of the artist.\n",
    "        release_title (str): Name of the Release\n",
    "\n",
    "    Returns:\n",
    "        list: The MBID for the release. This is the initial node for the network.\n",
    "    \"\"\"\n",
    "    base_url = \"https://musicbrainz.org/ws/2/release/\"\n",
    "    params = {\n",
    "        \"query\": f\"artist:\\\"{artist_name}\\\" AND release:\\\"{release_title}\\\"\",\n",
    "        \"fmt\": \"json\"\n",
    "    }\n",
    "    headers = {\"User-Agent\": \"Mozilla/5.0 (bittah.pupil@proton.me)\"} # Replace with your app info\n",
    "\n",
    "    response = requests.get(base_url, params=params, headers=headers)\n",
    "    response.raise_for_status() # Raise an exception for bad status codes\n",
    "    data = response.json()\n",
    "    \n",
    "    if data and data.get('releases'):\n",
    "        # Return the MBID of the first matching recording\n",
    "        return data['releases'][0]['id']\n",
    "    return None\n",
    "\n",
    "# Example usage:\n",
    "artist = \"Steely Dan\"\n",
    "album = \"Everything Must Go\"\n",
    "release_mbid = search_recording(artist, album)\n",
    "print(f\"Recording MBID for '{album}' by '{artist}': {release_mbid}\")"
   ]
  },
  {
   "cell_type": "code",
   "execution_count": 4,
   "id": "2cac36c0-d790-42b2-9774-88fcf9dd0654",
   "metadata": {},
   "outputs": [],
   "source": [
    "async def get_credits_for_recording(release_mbid):\n",
    "    \"\"\"\n",
    "    Retrieves all the credits for a given release using the releases MusicBrainz ID.\n",
    "\n",
    "    Args:\n",
    "        release_mbid (str): MusicBrainz ID for the release.\n",
    "\n",
    "    Returns:\n",
    "        list: A list of all credited personnel (including artist) on the release based on the provided release mbid.\n",
    "        This list includes the name of the credit, the role of the credit, and the mbid for the credit.\n",
    "    \"\"\"\n",
    "    base_url = f\"https://musicbrainz.org/ws/2/release/{release_mbid}\"\n",
    "    params = {\n",
    "        \"inc\": \"artist-credits+labels+recordings+recording-level-rels+work-rels+work-level-rels+artist-rels + release-groups\",  # Include artist relationships\n",
    "        \"fmt\": \"json\"\n",
    "    }\n",
    "    headers = {\"User-Agent\": \"Mozilla/5.0 (bittah.pupil@proton.me)\"}\n",
    "\n",
    "    response = requests.get(base_url, params=params, headers=headers)\n",
    "    response.raise_for_status()\n",
    "    data = response.json()\n",
    "\n",
    "    credits = []\n",
    "    \n",
    "    if data and data.get('artist-credit'):\n",
    "       for track in data['media'][0]['tracks']:\n",
    "            for credit in track['recording']['relations']:\n",
    "                if credit['attributes'] == []:\n",
    "                    attributes = 'Not Found'\n",
    "                else:\n",
    "                    attributes = credit['attributes']\n",
    "                credits.append((track['number'], track['title'], credit.get('artist', {}).get('name', 'Not Found'), attributes, credit.get('artist', {}).get('id', 'Not Found')))\n",
    "            for credit in track['artist-credit']:\n",
    "                credits.append((track['number'], track['title'], credit.get('name', 'Not Found'), credit.get('attributes', 'Not Found'), credit.get('artist', {}).get('id', 'Not Found')))\n",
    "    if data['relations']:\n",
    "       for credit in data['relations']:\n",
    "           trackNum = 'Not Found'\n",
    "           trackTitle = 'Not Found'\n",
    "           if credit['attributes'] == [] or not credit['attributes']:\n",
    "               attributes = 'Not Found'\n",
    "           else:\n",
    "               attributes = credit['attributes']\n",
    "           credits.append((trackNum, trackTitle, credit.get('artist', {}).get('name', 'Not Found'), attributes, credit.get('artist', {}).get('id', 'Not Found')))\n",
    "\n",
    "    creditNames = []\n",
    "    creditList = []\n",
    "    for credit in credits:\n",
    "        if credit[2] not in creditNames:\n",
    "            creditNames.append(credit[2])\n",
    "            creditList.append((credit[2],credit[3], credit[4]))\n",
    "    #print(creditNames)\n",
    "    #print(\"\\n\")\n",
    "    print(creditList)\n",
    "\n",
    "    #artist_mbid = creditList[0][2]\n",
    "    #print(artist_mbid)\n",
    "    \n",
    "    return credits"
   ]
  },
  {
   "cell_type": "code",
   "execution_count": 5,
   "id": "719e7e28-f4d2-4965-9105-969b66586ef5",
   "metadata": {},
   "outputs": [
    {
     "name": "stdout",
     "output_type": "stream",
     "text": [
      "[('Ted Baker', ['piano'], 'ffd99695-e69f-4d8a-9905-ab44801349a2'), ('Walter Becker', ['electric bass guitar', 'electric guitar', 'solo'], '8cc72457-488e-44e6-a5b3-d2da843b7245'), ('Keith Carlock', ['drums (drum set)'], '318c5217-5b77-46aa-8662-b7f2aa8f7774'), ('Donald Fagen', ['Rhodes piano', 'Wurlitzer electric piano'], '70047e57-0153-4117-b0fc-a1d2e322e5ef'), ('Jon Herington', ['electric guitar'], '94ad5b05-7843-44ce-b994-b17830478f7d'), ('Tony Kadleck', ['trumpet'], '24c1fe59-117b-4c66-8803-e322dc8574a4'), ('Hugh McCracken', ['electric guitar'], 'fd7ce65a-3eea-4bec-9b05-7c01d43b3b00'), ('Jim Pugh', ['trombone'], 'fd1262b1-b80c-4836-a167-0c2d7420b110'), ('Roger Rosenberg', ['baritone saxophone'], '6dd659ef-d184-405a-afb5-ed73ea27ab51'), ('Walt Weiskopf', ['alto saxophone'], '81f5f851-bf90-4e97-940a-c1e87785899c'), ('Joe Peccerillo', ['assistant'], '7cef6291-593c-498f-a2af-759424c79bb5'), ('Elliot Scheiner', 'Not Found', '83b66d72-80c6-418f-a4c3-88db9c886afe'), ('Cindy Mizelle', ['background vocals'], '0a84499b-cf33-43cd-b29d-8b2fb67ebbb3'), ('Catherine Russell', ['background vocals'], '4abc9193-5f45-499a-9ffa-1a819d0a6afd'), ('Not Found', 'Not Found', 'Not Found'), ('Steely Dan', 'Not Found', 'e01c3376-15fa-40d7-b747-5f219bdefdd7'), ('Gordon Gottlieb', ['percussion'], '1f604f81-3eff-4444-88b9-672798b8a4ef'), ('Michael Leonhart', ['trumpet'], '0438dfba-84aa-4cae-832b-f449ced42985'), ('Carolyn Leonhart', ['background vocals'], 'ab5d78e4-fe32-4e72-a740-2fb494354af3'), ('Bill Charlap', ['Rhodes piano'], '85cc88c3-f595-463a-8674-a54a6891eaa9'), ('Tawatha Agee', ['background vocals'], 'c852a4a3-bfc2-4e5c-90a6-ac908e5bcceb'), ('Ada Dyer', ['background vocals'], '1ca07311-cbfe-4ae8-a518-aa76c8579802'), ('Michael Harvey', ['background vocals'], '4904be9d-37b1-47b9-8dbb-203eca9a209c'), ('Ken Hitchcock', ['clarinet'], 'a91dae9e-42b9-46e1-9d86-87c782c64c6b'), ('Chris Potter', ['tenor saxophone'], '80fd1c1c-7153-4a5b-b0e9-2242d8a6cbf5'), ('Brenda White‐King', ['background vocals'], 'd0c2489a-6b4c-4a8b-972d-0f4c9cac24da')]\n"
     ]
    }
   ],
   "source": [
    "#Example usage:\n",
    "if release_mbid:\n",
    "    albumCredits = await get_credits_for_recording(release_mbid)\n",
    "    #print(albumCredits)\n",
    "else:\n",
    "    print(f\"Recording for '{album}' by '{artist}' not found.\")\n",
    "\n",
    "time.sleep(2)"
   ]
  },
  {
   "cell_type": "code",
   "execution_count": 6,
   "id": "8f8146ad-ddbe-4e8b-a378-dadd11769637",
   "metadata": {},
   "outputs": [],
   "source": [
    "# Create the DataFrame\n",
    "#df = pd.DataFrame(albumCredits, columns = ['Track Number', 'Track Title', 'Artist', 'Role', 'Artist_MBID'])\n",
    "\n",
    "#pd.set_option('display.max_rows', None)\n",
    "#pd.set_option('display.max_columns', None)\n",
    "\n",
    "\n",
    "# Display the DataFrame\n",
    "#df"
   ]
  }
 ],
 "metadata": {
  "kernelspec": {
   "display_name": "Python 3 (ipykernel)",
   "language": "python",
   "name": "python3"
  },
  "language_info": {
   "codemirror_mode": {
    "name": "ipython",
    "version": 3
   },
   "file_extension": ".py",
   "mimetype": "text/x-python",
   "name": "python",
   "nbconvert_exporter": "python",
   "pygments_lexer": "ipython3",
   "version": "3.13.9"
  }
 },
 "nbformat": 4,
 "nbformat_minor": 5
}
