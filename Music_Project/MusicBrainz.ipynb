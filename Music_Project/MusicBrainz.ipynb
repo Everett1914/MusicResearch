{
 "cells": [
  {
   "cell_type": "code",
   "execution_count": 12,
   "id": "d471722d-50bf-47a0-831d-a55d736572a5",
   "metadata": {},
   "outputs": [],
   "source": [
    "import musicbrainzngs\n",
    "\n",
    "# Set the user agent for your application\n",
    "musicbrainzngs.set_useragent(\"Mozilla/5.0 (X11; Linux x86_64; rv:143.0) Gecko/20100101 Firefox/143.0\", \"0.5\", \"bittah.pupil@proton.me\")"
   ]
  },
  {
   "cell_type": "code",
   "execution_count": 13,
   "id": "30230e88-f96f-4826-8b17-e74b3c523683",
   "metadata": {},
   "outputs": [
    {
     "name": "stdout",
     "output_type": "stream",
     "text": [
      "Artist: Black Sabbath, ID: 5182c1d9-c7d2-4dad-afa0-ccfeada921a8\n"
     ]
    }
   ],
   "source": [
    "result = musicbrainzngs.search_artists(artist=\"Black Milk\")\n",
    "\n",
    "# Display information about the first artist in the search result\n",
    "artist = result['artist-list'][0]\n",
    "print(f\"Artist: {artist['name']}, ID: {artist['id']}\")"
   ]
  },
  {
   "cell_type": "code",
   "execution_count": 14,
   "id": "36b4a778-40bf-4808-a284-84a5c34b1b86",
   "metadata": {},
   "outputs": [
    {
     "name": "stdout",
     "output_type": "stream",
     "text": [
      "Artist: Black Sabbath, ID: 5182c1d9-c7d2-4dad-afa0-ccfeada921a8\n",
      "Artist: Black Milk, ID: 7f4e8866-a462-4785-ae83-5c35adef2db3\n",
      "Artist: Roy Black, ID: cec72d43-ac22-4be1-945f-74f039b7413f\n",
      "Artist: Milk Inc., ID: 67bb73ee-e70c-4bfd-9bf1-e7a09768f9a9\n",
      "Artist: Neutral Milk Hotel, ID: a506f761-2c22-4b2f-8a94-bd748c2c8f75\n",
      "Artist: The Black Crowes, ID: 02ceff75-7363-493e-a78d-912dc86c7460\n",
      "Artist: Bläck Fööss, ID: 87f8339a-625e-4912-939e-8b62836c159d\n",
      "Artist: Black Eyed Peas, ID: d5be5333-4171-427e-8e12-732087c6b78e\n",
      "Artist: Ladysmith Black Mambazo, ID: c1982570-8efb-4cf7-bb5b-c9c026c0e8f4\n",
      "Artist: Black Uhuru, ID: 8ee00333-ec2c-439b-a619-ae160aca2a15\n",
      "Artist: Cilla Black, ID: e002853b-7843-449b-a46a-c35fe6b8bed5\n",
      "Artist: Milk & Sugar, ID: 7ba2b9d4-9488-46bc-99e7-e525568339ee\n",
      "Artist: The Black Keys, ID: d15721d8-56b4-453d-b506-fc915b14cba2\n",
      "Artist: Frank Black, ID: 98a35a4d-a845-4282-bc7c-5679f2bb9bd2\n",
      "Artist: Black Box, ID: d73596bb-a8f8-4aae-a323-d881f5245149\n",
      "Artist: The Black Dog, ID: a78d2a35-c083-4179-a5d8-49f84e5ec863\n",
      "Artist: Black Milk, ID: 296254f8-9ab2-4ce7-8b11-7095d0a7fb6a\n",
      "Artist: Black, ID: 738457fb-624c-40db-b68c-66c7a238a955\n",
      "Artist: Harvey Milk, ID: d8b01cf8-a7ff-41fd-95cb-47b56c9c895f\n",
      "Artist: Black Milk, ID: 40d317e7-8d23-4e5b-84c0-fcdc0b5a922d\n",
      "Artist: Stanley Black, ID: c1632a1f-2c7c-4da4-a4f6-ba05d9690055\n",
      "Artist: Black Label Society, ID: a8e935c6-3fcc-414c-900c-77e8170e7e7c\n",
      "Artist: Black Flag, ID: 9941a936-196a-4a62-ae53-a69cbc33f20e\n",
      "Artist: Mary Black, ID: dcc0e816-31d2-4501-93c6-b5b64fcda39f\n",
      "Artist: Big Black, ID: 9463868f-edc8-427e-ac07-ea89698e5f15\n"
     ]
    }
   ],
   "source": [
    "for artist in result['artist-list']:\n",
    "    print(f\"Artist: {artist['name']}, ID: {artist['id']}\")"
   ]
  }
 ],
 "metadata": {
  "kernelspec": {
   "display_name": "Python 3 (ipykernel)",
   "language": "python",
   "name": "python3"
  },
  "language_info": {
   "codemirror_mode": {
    "name": "ipython",
    "version": 3
   },
   "file_extension": ".py",
   "mimetype": "text/x-python",
   "name": "python",
   "nbconvert_exporter": "python",
   "pygments_lexer": "ipython3",
   "version": "3.13.7"
  }
 },
 "nbformat": 4,
 "nbformat_minor": 5
}
